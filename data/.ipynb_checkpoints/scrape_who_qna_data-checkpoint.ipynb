{
 "cells": [
  {
   "cell_type": "markdown",
   "metadata": {},
   "source": [
    "# Data Collection: WHO Covid-19 Q & A"
   ]
  },
  {
   "cell_type": "markdown",
   "metadata": {},
   "source": [
    "https://www.who.int/emergencies/diseases/novel-coronavirus-2019/question-and-answers-hub"
   ]
  },
  {
   "cell_type": "code",
   "execution_count": 1,
   "metadata": {},
   "outputs": [],
   "source": [
    "from time import sleep\n",
    "import json  \n",
    "\n",
    "import requests\n",
    "from bs4 import BeautifulSoup\n"
   ]
  },
  {
   "cell_type": "markdown",
   "metadata": {},
   "source": [
    "See the following blog for details:\n",
    "https://hackersandslackers.com/scraping-urls-with-beautifulsoup/"
   ]
  },
  {
   "cell_type": "code",
   "execution_count": 2,
   "metadata": {},
   "outputs": [],
   "source": [
    "get_url = lambda x: 'https://www.who.int' + x"
   ]
  },
  {
   "cell_type": "code",
   "execution_count": 3,
   "metadata": {},
   "outputs": [],
   "source": [
    "url = get_url('/emergencies/diseases/novel-coronavirus-2019/question-and-answers-hub')"
   ]
  },
  {
   "cell_type": "code",
   "execution_count": 4,
   "metadata": {},
   "outputs": [
    {
     "data": {
      "text/plain": [
       "'https://www.who.int/emergencies/diseases/novel-coronavirus-2019/question-and-answers-hub'"
      ]
     },
     "execution_count": 4,
     "metadata": {},
     "output_type": "execute_result"
    }
   ],
   "source": [
    "url"
   ]
  },
  {
   "cell_type": "code",
   "execution_count": 5,
   "metadata": {},
   "outputs": [],
   "source": [
    "headers = {\n",
    "    'Access-Control-Allow-Origin': '*',\n",
    "    'Access-Control-Allow-Methods': 'GET',\n",
    "    'Access-Control-Allow-Headers': 'Content-Type',\n",
    "    'Access-Control-Max-Age': '3600',\n",
    "    'User-Agent': 'Mozilla/5.0 (X11; Ubuntu; Linux x86_64; rv:52.0) Gecko/20100101 Firefox/52.0'\n",
    "    }"
   ]
  },
  {
   "cell_type": "code",
   "execution_count": 6,
   "metadata": {},
   "outputs": [],
   "source": [
    "req = requests.get(url, headers)\n",
    "soup = BeautifulSoup(req.content, 'html.parser')"
   ]
  },
  {
   "cell_type": "code",
   "execution_count": 14,
   "metadata": {},
   "outputs": [],
   "source": [
    "all_topics = soup.select('.sf-list-vertical__item')"
   ]
  },
  {
   "cell_type": "code",
   "execution_count": null,
   "metadata": {},
   "outputs": [],
   "source": [
    "data_all_topics = []\n",
    "\n",
    "for cur_topic in all_topics:\n",
    "    \n",
    "    # Get main topic info\n",
    "    cur_title = cur_topic.select_one('.full-title').text.strip()\n",
    "    cur_topics = cur_title.split(':')\n",
    "    \n",
    "    # Skip topics that are not related to covid-19 general info,\n",
    "    # e.g. 'In vitro diagnostics: Prequalification'\n",
    "    if ('covid-19' not in cur_topics[0].lower()):\n",
    "        continue\n",
    "    \n",
    "    if (len(cur_topics) > 1):        \n",
    "        cur_topic_title = cur_topics[1]\n",
    "    else:\n",
    "        cur_topic_title = 'General'\n",
    "        \n",
    "    cur_url = get_url(cur_topic.get('href'))    \n",
    "\n",
    "    # ============\n",
    "    # Get Q&A data for the current main topic\n",
    "    # ============\n",
    "    \n",
    "    # Add a small pause to prevent a DoS block \n",
    "    sleep(0.5)\n",
    "    \n",
    "    cur_req = requests.get(cur_url, headers)\n",
    "    cur_soup = BeautifulSoup(cur_req.content, 'html.parser')\n",
    "    \n",
    "    cur_qna_panels = cur_soup.select('.sf-accordion__panel')\n",
    "    \n",
    "    cur_topic = []\n",
    "    for cur_qna in cur_qna_panels:\n",
    "        cur_question = cur_qna.select_one('.sf-accordion__trigger-panel').text.strip()\n",
    "\n",
    "#         cur_answer = cur_qna.select_one('.sf-accordion__summary').text.strip()\n",
    "        cur_answer = cur_qna.select_one('.sf-accordion__summary').decode_contents()\n",
    "        cur_topic.append({'question': cur_question, 'answer': cur_answer})\n",
    "        \n",
    "    \n",
    "    # ====\n",
    "    # Assemble data for the current topic\n",
    "    # ====\n",
    "    data_all_topics.append({\n",
    "        'title': cur_topic_title,\n",
    "        'url': cur_url,\n",
    "        'data': cur_topic\n",
    "    })\n"
   ]
  },
  {
   "cell_type": "code",
   "execution_count": null,
   "metadata": {},
   "outputs": [],
   "source": [
    "data_all_topics"
   ]
  },
  {
   "cell_type": "markdown",
   "metadata": {},
   "source": [
    "Save data to .json file"
   ]
  },
  {
   "cell_type": "code",
   "execution_count": null,
   "metadata": {},
   "outputs": [],
   "source": [
    "with open(\"qna/who.json\", \"w\") as outfile: \n",
    "    json.dump(data_all_topics, outfile)"
   ]
  },
  {
   "cell_type": "code",
   "execution_count": null,
   "metadata": {},
   "outputs": [],
   "source": []
  },
  {
   "cell_type": "markdown",
   "metadata": {},
   "source": [
    "### TODO\n",
    "\n",
    "1. Update script to correctly get data from a page that do not follow the default template, e.g.\n",
    "https://www.who.int/emergencies/diseases/novel-coronavirus-2019/question-and-answers-hub/q-a-detail/coronavirus-disease-covid-19-working-in-hotels\n",
    "\n",
    "2. To clean data so it matches the web app format\n",
    "3. To create a python program for this\n",
    "4. Scrape data from CDC: https://www.cdc.gov/coronavirus/2019-ncov/faq.html"
   ]
  },
  {
   "cell_type": "code",
   "execution_count": null,
   "metadata": {},
   "outputs": [],
   "source": []
  }
 ],
 "metadata": {
  "kernelspec": {
   "display_name": "Python 3",
   "language": "python",
   "name": "python3"
  },
  "language_info": {
   "codemirror_mode": {
    "name": "ipython",
    "version": 3
   },
   "file_extension": ".py",
   "mimetype": "text/x-python",
   "name": "python",
   "nbconvert_exporter": "python",
   "pygments_lexer": "ipython3",
   "version": "3.6.8"
  }
 },
 "nbformat": 4,
 "nbformat_minor": 2
}
